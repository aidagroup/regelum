{
 "cells": [
  {
   "cell_type": "markdown",
   "metadata": {
    "tags": [
     "requirements"
    ]
   },
   "source": [
    "$$\n",
    "%%%%%%%%%%%%%%%%%%%%%%%%%%%%%%%%%%%%%%%%%%%%%%%%%%%%%%%%%%%%%%%%%%%%%%%%%%%%%%%%%%%%%%%%%%%%\n",
    "%%%%%%%%%%%%%%%%%%%%%%%%%%%%%%%%%%%%%%%%%%%%%%%%%%%%%%% GENERAL SYMBOLS\n",
    "\\newcommand{\\diff}{\\mathop{}\\!\\mathrm{d}}                                % Differential\n",
    "\\newcommand{\\pdiff}[2]{ { \\frac{\\partial {#1}}{\\partial {#2}} } }        % Partial differentiation\n",
    "\\newcommand{\\D}{\\ensuremath{\\mathcal{D}}}                                % Generalized derivative\n",
    "\\newcommand{\\eps}{{\\varepsilon}}                                        % Epsilon\n",
    "\\newcommand{\\ball}{{\\mathcal B}}                                        % Ball\n",
    "\\newcommand{\\clip}{{\\text{clip}}}                                        % Clip function\n",
    "\\newcommand{\\Lip}[1]{\\text{Lip}_{#1}}                                    % Lipschitz constant of #1\n",
    "\\newcommand{\\sgn}{{\\text{sgn}}}                                            % Signum function\n",
    "\\newcommand{\\diam}{{\\text{diam}}}                                        % Diameter\n",
    "\\newcommand{\\dom}{{\\text{dom}}}                                            % Domain\n",
    "\\newcommand{\\ramp}{{\\text{ramp}}}                                        % Ramp\n",
    "\\newcommand{\\co}{{\\overline{\\text{co}}}}                                % Convex closure\n",
    "\\DeclareMathOperator*{\\argmin}{\\text{arg\\,min}}                            % Argmin\n",
    "\\DeclareMathOperator*{\\argmax}{\\text{arg\\,max}}                            % Argmax\n",
    "%\\newcommand{\\ln}{\\text{ln}}                                                % Natural logarithm\n",
    "\\newcommand{\\transp}{\\ensuremath{^{\\top}}}                                % Matrix transpose\n",
    "\\newcommand{\\inv}{\\ensuremath{^{-1}}}                                    % Inverse\n",
    "\\newcommand{\\tovec}[1]{\\ensuremath{\\text{vec}}\\left(#1\\right)}            % To-vector transformation\n",
    "\\newcommand{\\nrm}[1]{\\left\\lVert#1\\right\\rVert}                            % Norm\n",
    "\\newcommand{\\diag}[1]{{\\text{diag}}\\left(#1\\right)}                        % Diagonal\n",
    "\\newcommand{\\abs}[1]{\\left\\lvert#1\\right\\rvert}                            % Absolute value\n",
    "\\newcommand{\\scal}[1]{\\left\\langle#1\\right\\rangle}                        % Scalar product\n",
    "\\newcommand{\\tr}[1]{{\\text{tr}}\\left(#1\\right)}                            % Trace\n",
    "\\newcommand{\\E}[2][{}]{\\mathbb E_{#1}\\left[#2\\right]}                    % Mean\n",
    "\\newcommand{\\Es}[2][{}]{\\hat {\\mathbb E}_{#1}\\left[#2\\right]}            % Sample mean\n",
    "\\newcommand{\\PP}[1]{\\mathbb P\\left[#1\\right]}                            % Probability\n",
    "\\newcommand{\\bigo}[1]{\\mathcal O\\left(#1\\right)}                        % Big-o\n",
    "\\newcommand{\\low}{{\\text{low}}}                                            % Lower bound\n",
    "\\newcommand{\\up}{{\\text{up}}}                                            % Upper bound\n",
    "%\\newcommand\\circled[1]{\\tikz[baseline=(char.base)]{\\node[shape=circle,draw,inner sep=1pt](char){#1};}}\n",
    "%%%%%%%%%%%%%%%%%%%%%%%%%%%%%%%%%%%%%%%%%%%%%%%%%%%%%%%%%%%%%%%%%%%%%%%%%%%%%%%%%%%%%%%%%%%%%\n",
    "%%%%%%%%%%%%%%%%%%%%%%%%%%%%%%%%%%%%%%%%%%%%%%%%%%%%%%%% ARROWS\n",
    "\\newcommand{\\ra}{\\rightarrow}                                            % Right arrow\n",
    "\\newcommand{\\la}{\\leftarrow}                                            % Left arrow\n",
    "\\newcommand{\\rra}{\\rightrightarrows}                                    % Double right arrow\n",
    "%%%%%%%%%%%%%%%%%%%%%%%%%%%%%%%%%%%%%%%%%%%%%%%%%%%%%%%%%%%%%%%%%%%%%%%%%%%%%%%%%%%%%%%%%%%%\n",
    "%%%%%%%%%%%%%%%%%%%%%%%%%%%%%%%%%%%%%%%%%%%%%%%%%%%%%%% ABBREVIATIONS\n",
    "\\newcommand{\\ie}{\\unskip, i.\\,e.,\\xspace}                                % That is\n",
    "\\newcommand{\\eg}{\\unskip, e.\\,g.,\\xspace}                                % For example\n",
    "\\newcommand{\\sut}{\\text{s.\\,t.\\,}}                                        % Such that or subject to\n",
    "\\newcommand{\\wrt}{w.\\,r.\\,t. \\xspace}                                    % With respect to\n",
    "%%%%%%%%%%%%%%%%%%%%%%%%%%%%%%%%%%%%%%%%%%%%%%%%%%%%%%%%%%%%%%%%%%%%%%%%%%%%%%%%%%%%%%%%%%%%%\n",
    "%%%%%%%%%%%%%%%%%%%%%%%%%%%%%%%%%%%%%%%%%%%%%%%%%%%%%%% SETS\n",
    "\\let\\oldemptyset\\emptyset\n",
    "\\let\\emptyset\\varnothing\n",
    "\\newcommand{\\N}{{\\mathbb{N}}}                                            % Set of natural numbers\n",
    "\\newcommand{\\Z}{{\\mathbb{Z}}}                                            % Set of integer numbers\n",
    "\\newcommand{\\Q}{{\\mathbb{Q}}}                                            % Set of rational numbers\n",
    "\\newcommand{\\R}{{\\mathbb{R}}}                                            % Set of real numbers\n",
    "%%%%%%%%%%%%%%%%%%%%%%%%%%%%%%%%%%%%%%%%%%%%%%%%%%%%%%%%%%%%%%%%%%%%%%%%%%%%%%%%%%%%%%%%%%%%\n",
    "%%%%%%%%%%%%%%%%%%%%%%%%%%%%%%%%%%%%%%%%%%%%%%%%%%%%%%%% COLORED\n",
    "%\\newcommand{\\red}[1]{\\textcolor{red}{#1}}\n",
    "%\\newcommand{\\blue}[1]{\\textcolor{blue}{#1}}\n",
    "%\\definecolor{dgreen}{rgb}{0.0, 0.5, 0.0}\n",
    "%\\newcommand{\\green}[1]{\\textcolor{dgreen}{#1}}\n",
    "%%%%%%%%%%%%%%%%%%%%%%%%%%%%%%%%%%%%%%%%%%%%%%%%%%%%%%%%%%%%%%%%%%%%%%%%%%%%%%%%%%%%%%%%%%%%\n",
    "%%%%%%%%%%%%%%%%%%%%%%%%%%%%%%%%%%%%%%%%%%%%%%%%%%%%%%% SYSTEMS AND CONTROL\n",
    "\\newcommand{\\state}{s}                                                    % State (as vector)\n",
    "\\newcommand{\\State}{S}                                                    % State (as random variable)\n",
    "\\newcommand{\\states}{\\mathbb S}                                            % State space\n",
    "\\newcommand{\\action}{a}                                                    % Action (as vector)\n",
    "\\newcommand{\\Action}{A}                                                    % Action (as random variable)\n",
    "\\newcommand{\\actions}{\\mathbb A}                                        % Action space\n",
    "\\newcommand{\\traj}{z}                                                    % State-action tuple (as vector tuple)\n",
    "\\newcommand{\\Traj}{Z}                                                    % State-action tuple (as random variable tuple)\n",
    "\\newcommand{\\obs}{o}                                                    % Observation (as vector)\n",
    "\\newcommand{\\Obs}{O}                                                    % Observation (as random variable)\n",
    "\\newcommand{\\obses}{\\mathbb O}                                            % Observation space\n",
    "\\newcommand{\\policy}{\\pi}                                                % Policy (as function or distribution)\n",
    "\\newcommand{\\policies}{\\Pi}                                                % Policy space\n",
    "\\newcommand{\\transit}{P}                                                % State transition map\n",
    "\\newcommand{\\reward}{r}                                                    % Reward (as vector)\n",
    "\\newcommand{\\Reward}{R}                                                    % Reward (as random varaible)\n",
    "\\newcommand{\\cost}{c}                                                    % Cost (as vector)\n",
    "\\newcommand{\\Cost}{C}                                                    % Cost (as random varaible)\n",
    "\\newcommand{\\Value}{V}                                                    % Value\n",
    "\\newcommand{\\Advan}{\\mathcal A}                                            % Advantage\n",
    "\\newcommand{\\W}{{\\mathbb{W}}}                                % Weight space\n",
    "\\newcommand{\\act}{{\\text{act}}}                                            % Actor abbreviation\n",
    "\\newcommand{\\crit}{{\\text{crit}}}                                        % Critic abbreviation\n",
    "\\newcommand{\\B}{{\\mathbb{B}}}                                % Basin\n",
    "\\newcommand{\\G}{{\\mathbb{G}}}                                % Attractor (goal set)\n",
    "\\newcommand{\\Hamilt}{\\mathcal{H}}                            % Hamiltonian\n",
    "\\newcommand{\\K}{\\mathcal{K}}                        % Class kappa\n",
    "\\newcommand{\\KL}{\\mathcal{KL}\\xspace}                        % Class kappa-ell\n",
    "\\newcommand{\\Kinf}{\\mathcal{K}_{\\infty}}            % Class kappa-infinity\n",
    "\\newcommand{\\KLinf}{\\mathcal{KL}_{\\infty}}           % Class kappa-ell-infinity\n",
    "\\newcommand{\\T}{\\mathcal T}                                                % Total time\n",
    "\\newcommand{\\deltau}{\\Delta \\tau}                                        % Time step size\n",
    "\\newcommand{\\dt}{\\mathrm{d}t}                                % Time differential\n",
    "\\newcommand{\\normpdf}{\\mathcal{N}}                            % Normal PDF\n",
    "\\newcommand{\\trajpdf}{\\rho}                                                % State-action PDF\n",
    "\\newcommand{\\TD}{\\delta}                                                % Temporal difference\n",
    "\\newcommand{\\old}{{\\text{old}}}                                            % Old (previous) index\n",
    "\\newcommand{\\loss}{\\mathcal L}                                            % Loss\n",
    "\\newcommand{\\replay}{\\mathcal R}                                        % Experience replay\n",
    "\\newcommand{\\safeset}{\\mathcal{S}}                            % Safe set\n",
    "\\newcommand{\\dkappa}{\\kappa_{\\text{dec}}}                                % Decay kappa function\n",
    "\\newcommand{\\kldiv}[2]{d_{\\text{KL}}\\left(#1\\;\\middle\\|\\;#2\\right)}\n",
    "\\newcommand{\\barkldiv}[2]{\\overline{d}_{\\text{KL}}\\left(#1 \\; \\middle\\| \\; #2\\right)}\n",
    "\\newcommand{\\spc}{{\\,\\,}}\n",
    "$$\n",
    "\n",
    "Please ensure that the following requirements are installed prior to executing the cells within the Jupyter notebook\n"
   ]
  },
  {
   "cell_type": "code",
   "execution_count": null,
   "metadata": {
    "tags": [
     "requirements"
    ]
   },
   "outputs": [],
   "source": [
    "!pip install regelum"
   ]
  },
  {
   "cell_type": "markdown",
   "metadata": {},
   "source": [
    "# Pendulum PD controller\n",
    "\n",
    "$$\n",
    "\\diff s = \\vartheta \\diff t\n",
    "$$\n",
    "\n",
    "$$ \\states \\times \\actions $$\n"
   ]
  },
  {
   "cell_type": "code",
   "execution_count": 42,
   "metadata": {},
   "outputs": [],
   "source": [
    "from regelum.environment.node.base import Node, State, Inputs, Graph\n",
    "import numpy as np\n",
    "from regelum.utils import rg\n",
    "import logging\n",
    "\n",
    "\n",
    "logging.basicConfig(\n",
    "    level=logging.INFO,\n",
    "    format=\"%(asctime)s - %(name)s - %(levelname)s - %(message)s\",\n",
    ")"
   ]
  },
  {
   "cell_type": "markdown",
   "metadata": {},
   "source": [
    "## Let us define a pendulum node\n"
   ]
  },
  {
   "cell_type": "code",
   "execution_count": 43,
   "metadata": {},
   "outputs": [],
   "source": [
    "class Pendulum(Node):\n",
    "    state = State(name=\"pendulum_state\", shape=(2,), _value=np.array([np.pi, 0]))\n",
    "    inputs = Inputs([\"torque\"])\n",
    "    length = 1\n",
    "    mass = 1\n",
    "    gravity_acceleration = 9.82\n",
    "\n",
    "    def compute_state_dynamics(self):\n",
    "        torque = self.inputs[\"torque\"].data\n",
    "\n",
    "        angle = self.state.data[0]\n",
    "        angular_velocity = self.state.data[1]\n",
    "\n",
    "        d_angle = angular_velocity\n",
    "        d_angular_velocity = self.gravity_acceleration / (self.length) * rg.sin(\n",
    "            angle\n",
    "        ) + torque / (self.mass * self.length**2)\n",
    "\n",
    "        return {\"pendulum_state\": rg.vstack([d_angle, d_angular_velocity])}"
   ]
  },
  {
   "cell_type": "code",
   "execution_count": 44,
   "metadata": {},
   "outputs": [],
   "source": [
    "class PendulumPDController(Node):\n",
    "    state = State(\"torque\", (1,))\n",
    "    inputs = Inputs([\"pendulum_state\"])\n",
    "\n",
    "    def __init__(self, kp: float = 0.01, kd: float = 0.01, step_size: float = 0.01):\n",
    "        super().__init__(step_size=step_size)\n",
    "        self.kp = kp\n",
    "        self.kd = kd\n",
    "\n",
    "    def compute_state_dynamics(self):\n",
    "        pendulum_state = self.inputs[\"pendulum_state\"].data\n",
    "\n",
    "        angle = pendulum_state[0]\n",
    "        angular_velocity = pendulum_state[1]\n",
    "\n",
    "        return {\"torque\": -self.kp * angle - self.kd * angular_velocity}"
   ]
  },
  {
   "cell_type": "code",
   "execution_count": 45,
   "metadata": {},
   "outputs": [
    {
     "name": "stdout",
     "output_type": "stream",
     "text": [
      "Resolved node order: pendulum_state -> Clock -> step_counter -> torque -> Logger\n"
     ]
    }
   ],
   "source": [
    "n_steps = 1000\n",
    "pd_controller = PendulumPDController(kp=20, kd=20, step_size=0.01)\n",
    "pendulum = Pendulum(is_root=True, is_continuous=True)\n",
    "graph = Graph(\n",
    "    [pd_controller, pendulum],\n",
    "    states_to_log=[\"pendulum_state\", \"torque\"],\n",
    "    logger_cooldown=0.5,\n",
    ")"
   ]
  },
  {
   "cell_type": "code",
   "execution_count": 46,
   "metadata": {},
   "outputs": [
    {
     "name": "stderr",
     "output_type": "stream",
     "text": [
      "2024-12-06 20:59:42,676 - t=0.020 | pendulum_state=[3.142 0.   ] | torque=-62.832\n",
      "2024-12-06 20:59:42,790 - t=0.520 | pendulum_state=[ 2.044 -1.721] | torque=-6.469\n",
      "2024-12-06 20:59:42,876 - t=1.020 | pendulum_state=[ 1.401 -0.965] | torque=-8.711\n",
      "2024-12-06 20:59:42,960 - t=1.520 | pendulum_state=[ 1.013 -0.622] | torque=-7.822\n",
      "2024-12-06 20:59:43,045 - t=2.030 | pendulum_state=[ 0.749 -0.43 ] | torque=-6.378\n",
      "2024-12-06 20:59:43,131 - t=2.540 | pendulum_state=[ 0.562 -0.311] | torque=-5.029\n",
      "2024-12-06 20:59:43,217 - t=3.050 | pendulum_state=[ 0.426 -0.23 ] | torque=-3.909\n",
      "2024-12-06 20:59:43,302 - t=3.560 | pendulum_state=[ 0.324 -0.173] | torque=-3.017\n",
      "2024-12-06 20:59:43,387 - t=4.070 | pendulum_state=[ 0.247 -0.131] | torque=-2.320\n",
      "2024-12-06 20:59:43,475 - t=4.580 | pendulum_state=[ 0.188 -0.099] | torque=-1.780\n",
      "2024-12-06 20:59:43,560 - t=5.090 | pendulum_state=[ 0.144 -0.076] | torque=-1.364\n",
      "2024-12-06 20:59:43,644 - t=5.600 | pendulum_state=[ 0.11  -0.058] | torque=-1.045\n",
      "2024-12-06 20:59:43,728 - t=6.110 | pendulum_state=[ 0.084 -0.044] | torque=-0.800\n",
      "2024-12-06 20:59:43,813 - t=6.620 | pendulum_state=[ 0.064 -0.034] | torque=-0.613\n",
      "2024-12-06 20:59:43,897 - t=7.130 | pendulum_state=[ 0.049 -0.026] | torque=-0.469\n",
      "2024-12-06 20:59:43,981 - t=7.640 | pendulum_state=[ 0.038 -0.02 ] | torque=-0.359\n",
      "2024-12-06 20:59:44,066 - t=8.150 | pendulum_state=[ 0.029 -0.015] | torque=-0.275\n",
      "2024-12-06 20:59:44,150 - t=8.660 | pendulum_state=[ 0.022 -0.012] | torque=-0.210\n",
      "2024-12-06 20:59:44,234 - t=9.170 | pendulum_state=[ 0.017 -0.009] | torque=-0.161\n",
      "2024-12-06 20:59:44,318 - t=9.680 | pendulum_state=[ 0.013 -0.007] | torque=-0.123\n"
     ]
    }
   ],
   "source": [
    "for _ in range(n_steps):\n",
    "    graph.step()\n",
    "\n",
    "graph.reset()"
   ]
  },
  {
   "cell_type": "code",
   "execution_count": null,
   "metadata": {},
   "outputs": [],
   "source": []
  }
 ],
 "metadata": {
  "kernelspec": {
   "display_name": "regelum-node",
   "language": "python",
   "name": "python3"
  },
  "language_info": {
   "codemirror_mode": {
    "name": "ipython",
    "version": 3
   },
   "file_extension": ".py",
   "mimetype": "text/x-python",
   "name": "python",
   "nbconvert_exporter": "python",
   "pygments_lexer": "ipython3",
   "version": "3.12.5"
  }
 },
 "nbformat": 4,
 "nbformat_minor": 2
}
